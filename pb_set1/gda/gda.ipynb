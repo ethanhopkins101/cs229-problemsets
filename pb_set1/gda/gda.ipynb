{
 "cells": [
  {
   "cell_type": "code",
   "execution_count": 1,
   "id": "8ff14ac9",
   "metadata": {},
   "outputs": [],
   "source": [
    "import numpy as np\n",
    "import matplotlib.pyplot as plt"
   ]
  },
  {
   "cell_type": "code",
   "execution_count": 8,
   "id": "52b19b3f",
   "metadata": {},
   "outputs": [
    {
     "data": {
      "text/plain": [
       "(800, 3)"
      ]
     },
     "execution_count": 8,
     "metadata": {},
     "output_type": "execute_result"
    }
   ],
   "source": [
    "data=np.genfromtxt('ds1_train.csv',delimiter=',',skip_header=True)\n",
    "data.shape"
   ]
  },
  {
   "cell_type": "code",
   "execution_count": 14,
   "id": "ffabbff8",
   "metadata": {},
   "outputs": [
    {
     "data": {
      "text/plain": [
       "(800, 2)"
      ]
     },
     "execution_count": 14,
     "metadata": {},
     "output_type": "execute_result"
    }
   ],
   "source": [
    "x_train=data[:,:-1]\n",
    "x_train.shape"
   ]
  },
  {
   "cell_type": "code",
   "execution_count": 13,
   "id": "6c2ab42f",
   "metadata": {},
   "outputs": [
    {
     "data": {
      "text/plain": [
       "(800, 1)"
      ]
     },
     "execution_count": 13,
     "metadata": {},
     "output_type": "execute_result"
    }
   ],
   "source": [
    "y_train=data[:,-1:]\n",
    "y_train.shape"
   ]
  },
  {
   "cell_type": "code",
   "execution_count": 137,
   "id": "9075d7c3",
   "metadata": {},
   "outputs": [
    {
     "data": {
      "text/plain": [
       "array([ 2812.66020544, 74198.59133617])"
      ]
     },
     "execution_count": 137,
     "metadata": {},
     "output_type": "execute_result"
    }
   ],
   "source": [
    "np.sum(x_train,axis=0)"
   ]
  },
  {
   "cell_type": "markdown",
   "id": "f1ad2bc1",
   "metadata": {},
   "source": [
    "#### Gda \n",
    "##### Equal variance"
   ]
  },
  {
   "cell_type": "code",
   "execution_count": 77,
   "id": "bd1f9382",
   "metadata": {},
   "outputs": [],
   "source": [
    "#Training section\n",
    "def gda(x,y):\n",
    "    x0=x[y[:,0]==0]\n",
    "    x1=x[y[:,0]==1]\n",
    "    m=x.shape[0]\n",
    "    feta=np.mean(y)\n",
    "    mu0=np.mean(x0,axis=0)\n",
    "    mu1=np.mean(x1,axis=0)\n",
    "    ## not sure of the next syntax\n",
    "    mu_vec=np.where(y==1,mu1,mu0)\n",
    "    sigma=(1/m)*np.dot((x-mu_vec).T,x-mu_vec)\n",
    "    return feta,mu0,mu1,sigma"
   ]
  },
  {
   "cell_type": "code",
   "execution_count": 80,
   "id": "6b51590e",
   "metadata": {},
   "outputs": [],
   "source": [
    "#feta,mu0,mu1,sigma=gda(x_train,y_train)"
   ]
  },
  {
   "cell_type": "code",
   "execution_count": 82,
   "id": "634a449d",
   "metadata": {},
   "outputs": [],
   "source": [
    "from math import pi\n",
    "from math import sqrt"
   ]
  },
  {
   "cell_type": "code",
   "execution_count": 83,
   "id": "6e17015f",
   "metadata": {},
   "outputs": [],
   "source": [
    "#Predictions\n",
    "def pred(x):\n",
    "    #           p(x/y=1)p(y=1)                      p(x/y=0)p(y)\n",
    "    # p(y=1|x)=  ____________            p(y=0|x) =  __________\n",
    "    #                p(x)                               p(x)\n",
    "    px_y0=1/(((2*pi)**(x.shape[1]/2))*sqrt(np.linalg.det(sigma)))*exp(-(np.dot(np.dot(x-mu0,np.linalg.inv(sigma)),(x-mu0).T)/2))\n",
    "    px_y1=1/(((2*pi)**(x.shape[1]/2))*sqrt(np.linalg.det(sigma)))*exp(-(np.dot(np.dot(x-mu1,np.linalg.inv(sigma)),(x-mu1).T)/2))\n",
    "    py1=feta\n",
    "    py0=1-feta\n",
    "    px=px_y0*py0+px_y1*py1\n",
    "    py0_x=px_y0*py0/px\n",
    "    py1_x=px_y1*py1/px\n",
    "    return max(py1_x,py0_x)"
   ]
  },
  {
   "cell_type": "code",
   "execution_count": null,
   "id": "3dff1450",
   "metadata": {},
   "outputs": [],
   "source": []
  }
 ],
 "metadata": {
  "kernelspec": {
   "display_name": "Python 3 (ipykernel)",
   "language": "python",
   "name": "python3"
  },
  "language_info": {
   "codemirror_mode": {
    "name": "ipython",
    "version": 3
   },
   "file_extension": ".py",
   "mimetype": "text/x-python",
   "name": "python",
   "nbconvert_exporter": "python",
   "pygments_lexer": "ipython3",
   "version": "3.11.4"
  }
 },
 "nbformat": 4,
 "nbformat_minor": 5
}
