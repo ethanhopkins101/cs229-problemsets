{
 "cells": [
  {
   "cell_type": "code",
   "execution_count": 1,
   "id": "069e45e6",
   "metadata": {},
   "outputs": [],
   "source": [
    "import numpy as np\n",
    "import matplotlib.pyplot as plt"
   ]
  },
  {
   "cell_type": "code",
   "execution_count": 2,
   "id": "96f3fbfa",
   "metadata": {},
   "outputs": [],
   "source": [
    "def calc_grad(X, Y, theta):\n",
    "    \"\"\"Compute the gradient of the loss with respect to theta.\"\"\"\n",
    "    m, n = X.shape\n",
    "\n",
    "    margins = Y * X.dot(theta)\n",
    "    probs = 1. / (1 + np.exp(margins))\n",
    "    grad = -(1./m) * (X.T.dot(probs * Y))\n",
    "\n",
    "    return grad\n"
   ]
  },
  {
   "cell_type": "code",
   "execution_count": null,
   "id": "b89f3c45",
   "metadata": {},
   "outputs": [],
   "source": [
    "def calc_grad(X,Y,theta):\n",
    "    m,n=X.shape\n",
    "    \n",
    "    hypothesis=2./(1+np.exp(-np.dot(X,theta)))-1\n",
    "    grad=2*np.dot((hypothesis-Y).T,X)\n",
    "    return grad"
   ]
  },
  {
   "cell_type": "code",
   "execution_count": 3,
   "id": "d61308ac",
   "metadata": {},
   "outputs": [],
   "source": [
    "def logistic_regression(X, Y):\n",
    "    \"\"\"Train a logistic regression model.\"\"\"\n",
    "    m, n = X.shape\n",
    "    theta = np.zeros((n,1))\n",
    "    learning_rate = 10\n",
    "\n",
    "    i = 0\n",
    "    while True:\n",
    "        i += 1\n",
    "        prev_theta = theta\n",
    "        grad = calc_grad(X, Y, theta)\n",
    "        theta = theta - learning_rate * grad\n",
    "        if i % 10000 == 0:\n",
    "            print('Finished %d iterations' % i)\n",
    "        if np.linalg.norm(prev_theta - theta) < 1e-15:\n",
    "            print('Converged in %d iterations' % i)\n",
    "            break\n",
    "    return\n"
   ]
  },
  {
   "cell_type": "code",
   "execution_count": 4,
   "id": "f7609583",
   "metadata": {},
   "outputs": [],
   "source": [
    "data_a=np.genfromtxt('ds1_a.csv',delimiter=',',skip_header=True)\n",
    "data_b=np.genfromtxt('ds1_b.csv',delimiter=',',skip_header=True)"
   ]
  },
  {
   "cell_type": "code",
   "execution_count": 5,
   "id": "bfc498e4",
   "metadata": {},
   "outputs": [],
   "source": [
    "y_a_train=data_a[:,:1]\n",
    "x_a_train=data_a[:,1:]\n",
    "y_b_train=data_b[:,:1]\n",
    "x_b_train=data_b[:,1:]"
   ]
  },
  {
   "cell_type": "code",
   "execution_count": 10,
   "id": "9fdced94",
   "metadata": {},
   "outputs": [],
   "source": [
    "np.set_printoptions(suppress=True)"
   ]
  },
  {
   "cell_type": "code",
   "execution_count": 13,
   "id": "bf87f727",
   "metadata": {},
   "outputs": [
    {
     "data": {
      "text/plain": [
       "array([[-1.        ,  0.59566305,  0.19307214],\n",
       "       [-1.        ,  0.43699719,  0.54480652],\n",
       "       [ 1.        ,  0.89994546,  0.84592244],\n",
       "       [-1.        ,  0.55506378,  0.00926336],\n",
       "       [-1.        ,  0.07468707,  0.28284514],\n",
       "       [-1.        ,  0.55602218,  0.40963329],\n",
       "       [-1.        ,  0.67950021,  0.00029841],\n",
       "       [-1.        ,  0.04710147,  0.94636135],\n",
       "       [ 1.        ,  0.72381662,  0.49406471],\n",
       "       [-1.        ,  0.24430488,  0.17661166],\n",
       "       [ 1.        ,  0.59740332,  0.61393064],\n",
       "       [-1.        ,  0.20696373,  0.39873574],\n",
       "       [-1.        ,  0.32212197,  0.28444305],\n",
       "       [ 1.        ,  0.74457786,  0.43513771],\n",
       "       [-1.        ,  0.54519329,  0.2062341 ],\n",
       "       [-1.        ,  0.16962398,  0.00435839],\n",
       "       [ 1.        ,  0.2339115 ,  0.96842959],\n",
       "       [ 1.        ,  0.56224845,  0.60234557],\n",
       "       [-1.        ,  0.28028458,  0.18674361],\n",
       "       [-1.        ,  0.03079896,  0.30200107],\n",
       "       [-1.        ,  0.22788609,  0.66097767],\n",
       "       [-1.        ,  0.27750147,  0.42384685],\n",
       "       [ 1.        ,  0.33784328,  0.79442548],\n",
       "       [ 1.        ,  0.99393541,  0.84904656],\n",
       "       [-1.        ,  0.28631672,  0.05959513],\n",
       "       [-1.        ,  0.120913  ,  0.31410067],\n",
       "       [ 1.        ,  0.04003937,  0.96768457],\n",
       "       [ 1.        ,  0.80863996,  0.86189181],\n",
       "       [-1.        ,  0.5539808 ,  0.01907996],\n",
       "       [ 1.        ,  0.11635213,  0.93987092],\n",
       "       [ 1.        ,  0.73010635,  0.94996765],\n",
       "       [ 1.        ,  0.84683388,  0.18672087],\n",
       "       [ 1.        ,  0.26082335,  0.98341326],\n",
       "       [ 1.        ,  0.41995704,  0.93275419],\n",
       "       [ 1.        ,  0.77194181,  0.55320231],\n",
       "       [ 1.        ,  0.92067449,  0.63521922],\n",
       "       [ 1.        ,  0.52934216,  0.72226846],\n",
       "       [-1.        ,  0.01379461,  0.42146183],\n",
       "       [-1.        ,  0.07751426,  0.62990042],\n",
       "       [ 1.        ,  0.92769832,  0.10409346],\n",
       "       [ 1.        ,  0.79574322,  0.9215389 ],\n",
       "       [-1.        ,  0.22396729,  0.07332974],\n",
       "       [ 1.        ,  0.94222536,  0.52183662],\n",
       "       [ 1.        ,  0.96519596,  0.20149794],\n",
       "       [ 1.        ,  0.99403213,  0.6081093 ],\n",
       "       [ 1.        ,  0.66580873,  0.50275839],\n",
       "       [-1.        ,  0.71765606,  0.03989391],\n",
       "       [-1.        ,  0.34870631,  0.22382319],\n",
       "       [-1.        ,  0.27094946,  0.20821442],\n",
       "       [-1.        ,  0.31825731,  0.39158963],\n",
       "       [ 1.        ,  0.82748549,  0.72649925],\n",
       "       [-1.        ,  0.53623651,  0.4372891 ],\n",
       "       [-1.        ,  0.08427624,  0.41135069],\n",
       "       [ 1.        ,  0.67010742,  0.45363173],\n",
       "       [ 1.        ,  0.85446021,  0.27351664],\n",
       "       [ 1.        ,  0.99494264,  0.70804892],\n",
       "       [ 1.        ,  0.93444575,  0.46282945],\n",
       "       [ 1.        ,  0.27487019,  0.86895647],\n",
       "       [-1.        ,  0.35620572,  0.34502672],\n",
       "       [ 1.        ,  0.98778317,  0.49145727],\n",
       "       [ 1.        ,  0.7987093 ,  0.60981108],\n",
       "       [ 1.        ,  0.80384619,  0.28305259],\n",
       "       [ 1.        ,  0.81301562,  0.93024804],\n",
       "       [ 1.        ,  0.90591729,  0.35685421],\n",
       "       [-1.        ,  0.43373825,  0.47833053],\n",
       "       [-1.        ,  0.11433172,  0.73978454],\n",
       "       [-1.        ,  0.34492001,  0.6130545 ],\n",
       "       [-1.        ,  0.2781991 ,  0.64116073],\n",
       "       [ 1.        ,  0.6964452 ,  0.88177755],\n",
       "       [ 1.        ,  0.79896752,  0.3531908 ],\n",
       "       [ 1.        ,  0.87688369,  0.67745009],\n",
       "       [ 1.        ,  0.634848  ,  0.50156021],\n",
       "       [-1.        ,  0.21190844,  0.28568595],\n",
       "       [ 1.        ,  0.58657622,  0.57137169],\n",
       "       [-1.        ,  0.0698571 ,  0.79150287],\n",
       "       [-1.        ,  0.23556712,  0.06438145],\n",
       "       [ 1.        ,  0.88776158,  0.52007465],\n",
       "       [-1.        ,  0.24499412,  0.03213293],\n",
       "       [-1.        ,  0.09069945,  0.86903741],\n",
       "       [ 1.        ,  0.50882783,  0.66124143],\n",
       "       [ 1.        ,  0.65204185,  0.77557781],\n",
       "       [ 1.        ,  0.77222463,  0.80670576],\n",
       "       [-1.        ,  0.1326901 ,  0.11895186],\n",
       "       [-1.        ,  0.0326138 ,  0.7520091 ],\n",
       "       [-1.        ,  0.40515931,  0.28291153],\n",
       "       [-1.        ,  0.32618199,  0.20260401],\n",
       "       [ 1.        ,  0.84737288,  0.70417677],\n",
       "       [ 1.        ,  0.37628191,  0.63551783],\n",
       "       [ 1.        ,  0.66478545,  0.95960047],\n",
       "       [ 1.        ,  0.85915621,  0.70068455],\n",
       "       [ 1.        ,  0.51812832,  0.54800244],\n",
       "       [ 1.        ,  0.72788336,  0.42352431],\n",
       "       [ 1.        ,  0.30966038,  0.91273296],\n",
       "       [-1.        ,  0.2894309 ,  0.13896633],\n",
       "       [ 1.        ,  0.90772514,  0.24320282],\n",
       "       [ 1.        ,  0.81732879,  0.69370939],\n",
       "       [-1.        ,  0.03721151,  0.12263431],\n",
       "       [ 1.        ,  0.09715802,  0.93152219],\n",
       "       [ 1.        ,  0.80751151,  0.5837524 ],\n",
       "       [-1.        ,  0.82986075,  0.08628668]])"
      ]
     },
     "execution_count": 13,
     "metadata": {},
     "output_type": "execute_result"
    }
   ],
   "source": [
    "data_b"
   ]
  },
  {
   "cell_type": "code",
   "execution_count": 7,
   "id": "3582e8b8",
   "metadata": {},
   "outputs": [],
   "source": [
    "intercept_a=np.ones((x_a_train.shape[0],1))\n",
    "intercept_b=np.ones((x_b_train.shape[0],1))\n",
    "x_a_train=np.append(intercept_a,x_a_train,axis=1)\n",
    "x_b_train=np.append(intercept_b,x_b_train,axis=1)"
   ]
  },
  {
   "cell_type": "code",
   "execution_count": 8,
   "id": "33d7e62d",
   "metadata": {},
   "outputs": [
    {
     "name": "stdout",
     "output_type": "stream",
     "text": [
      "Finished 10000 iterations\n",
      "Finished 20000 iterations\n",
      "Finished 30000 iterations\n",
      "Converged in 30368 iterations\n"
     ]
    }
   ],
   "source": [
    "logistic_regression(x_a_train,y_a_train)"
   ]
  },
  {
   "cell_type": "code",
   "execution_count": 9,
   "id": "22c3b973",
   "metadata": {
    "scrolled": false
   },
   "outputs": [],
   "source": [
    "#logistic_regression(x_b_train,y_b_train)"
   ]
  },
  {
   "cell_type": "code",
   "execution_count": null,
   "id": "0ad7b1cf",
   "metadata": {},
   "outputs": [],
   "source": []
  }
 ],
 "metadata": {
  "kernelspec": {
   "display_name": "Python 3 (ipykernel)",
   "language": "python",
   "name": "python3"
  },
  "language_info": {
   "codemirror_mode": {
    "name": "ipython",
    "version": 3
   },
   "file_extension": ".py",
   "mimetype": "text/x-python",
   "name": "python",
   "nbconvert_exporter": "python",
   "pygments_lexer": "ipython3",
   "version": "3.11.4"
  }
 },
 "nbformat": 4,
 "nbformat_minor": 5
}
